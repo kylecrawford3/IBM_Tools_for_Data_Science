{
  "metadata": {
    "kernelspec": {
      "name": "python",
      "display_name": "Pyolite",
      "language": "python"
    },
    "language_info": {
      "codemirror_mode": {
        "name": "python",
        "version": 3
      },
      "file_extension": ".py",
      "mimetype": "text/x-python",
      "name": "python",
      "nbconvert_exporter": "python",
      "pygments_lexer": "ipython3",
      "version": "3.8"
    }
  },
  "nbformat_minor": 4,
  "nbformat": 4,
  "cells": [
    {
      "cell_type": "markdown",
      "source": "<center>\n    <img src=\"https://cf-courses-data.s3.us.cloud-object-storage.appdomain.cloud/IBMDeveloperSkillsNetwork-DS0105EN-SkillsNetwork/labs/Module2/images/SN_web_lightmode.png\" width=\"300\" alt=\"cognitiveclass.ai logo\">\n</center>\n",
      "metadata": {}
    },
    {
      "cell_type": "markdown",
      "source": "# My Jupyter Notebook on IBM Watson Studio",
      "metadata": {}
    },
    {
      "cell_type": "markdown",
      "source": "**Kyle Crawford** \n<br>Director of Business Intelligence",
      "metadata": {}
    },
    {
      "cell_type": "markdown",
      "source": "*I am interested in data science because I am trying to expand my department beyond business intelligence to include more advanced and robust insights into our business. I'm excited to go beyond simple business analytics and expand the team to include one or more data scientists to add more value that our deparment brings to the company.*",
      "metadata": {}
    },
    {
      "cell_type": "markdown",
      "source": "### The line of code below demonstrates the execution of a simple math equation:",
      "metadata": {}
    },
    {
      "cell_type": "code",
      "source": "2 + 3",
      "metadata": {
        "trusted": true
      },
      "execution_count": 1,
      "outputs": [
        {
          "execution_count": 1,
          "output_type": "execute_result",
          "data": {
            "text/plain": "5"
          },
          "metadata": {}
        }
      ]
    },
    {
      "cell_type": "markdown",
      "source": "![alt text](https://upload.wikimedia.org/wikipedia/en/5/53/Arsenal_FC.svg \"Demonstration of image insertion\")",
      "metadata": {}
    },
    {
      "cell_type": "markdown",
      "source": "[Arsenal Website](https://www.arsenal.com \"Demonstration of link insertion\")",
      "metadata": {}
    },
    {
      "cell_type": "markdown",
      "source": "> Arsenal are by far the greatest team the world has ever seen.",
      "metadata": {}
    },
    {
      "cell_type": "code",
      "source": "",
      "metadata": {},
      "execution_count": null,
      "outputs": []
    }
  ]
}